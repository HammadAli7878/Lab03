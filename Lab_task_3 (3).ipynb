{
  "cells": [
    {
      "cell_type": "markdown",
      "metadata": {
        "id": "DR3RvooloecS"
      },
      "source": [
        "# Lab Task 01"
      ]
    },
    {
      "cell_type": "markdown",
      "metadata": {
        "id": "Oi-yFvItoWzc"
      },
      "source": [
        "Reshape a 1D NumPy array into a 2D array with dimensions (3, 4).\n",
        "\n",
        "Concatenate two NumPy arrays horizontally and vertically."
      ]
    },
    {
      "cell_type": "code",
      "execution_count": 23,
      "metadata": {
        "id": "c379PMYOobDK"
      },
      "outputs": [
        {
          "name": "stdout",
          "output_type": "stream",
          "text": [
            "[[ 1  2  3  4]\n",
            " [ 5  6  7  8]\n",
            " [ 9 10 11 12]] \n",
            "\n",
            "[[1 1 1 1]\n",
            " [1 1 1 1]\n",
            " [1 1 1 1]] \n",
            "\n",
            "[[ 1  2  3  4]\n",
            " [ 5  6  7  8]\n",
            " [ 9 10 11 12]\n",
            " [ 1  1  1  1]\n",
            " [ 1  1  1  1]\n",
            " [ 1  1  1  1]] \n",
            "\n",
            "[[ 1  2  3  4  1  1  1  1]\n",
            " [ 5  6  7  8  1  1  1  1]\n",
            " [ 9 10 11 12  1  1  1  1]]\n"
          ]
        }
      ],
      "source": [
        "#code here\n",
        "import numpy as np\n",
        "arr=np.array([1,2,3,4,5,6,7,8,9,10,11,12])\n",
        "arr=arr.reshape(3,4)\n",
        "\n",
        "arr1=np.ones_like(arr)\n",
        "\n",
        "arr2=np.vstack((arr,arr1))\n",
        "arr3=np.hstack((arr,arr1))\n",
        "\n",
        "print(arr,\"\\n\")\n",
        "print(arr1,\"\\n\")\n",
        "print(arr2,\"\\n\")\n",
        "print(arr3)"
      ]
    },
    {
      "cell_type": "markdown",
      "metadata": {
        "id": "Dv9DtQ3jp6mq"
      },
      "source": [
        "# Lab Task 02"
      ]
    },
    {
      "cell_type": "markdown",
      "metadata": {
        "id": "2i6-zm_1ZAdn"
      },
      "source": [
        "\n",
        "## Email Classification\n",
        "Develope a tool which will classify an email.\n",
        "\n",
        "### Tasks:\n",
        "* Create a function classify_emails that takes a list of emails as an argument.\n",
        "* Inside the function, categorize emails into \"Important,\" \"Promotions,\" and \"Spam\" based on keywords and content analysis.\n",
        "* Loop through the emails and identify keywords to determine their category.\n",
        "* If an email contains keywords indicating importance, assign it as \"Important.\"\n",
        "* If an email contains keywords related to promotions or deals, assign it as \"Promotions.\"\n",
        "* If an email is suspected to be spam based on certain keywords or patterns, assign it as \"Spam.\"\n",
        "* Return three lists of emails for each category.\n",
        "* Print the lists."
      ]
    },
    {
      "cell_type": "code",
      "execution_count": 26,
      "metadata": {
        "id": "SnCGPkq-o84Z"
      },
      "outputs": [
        {
          "name": "stdout",
          "output_type": "stream",
          "text": [
            "['important announcement']\n",
            "['check out our latest deal']\n",
            "['you won a free nissan GTR (Kash...)']\n"
          ]
        }
      ],
      "source": [
        "#code here\n",
        "def classify_emails(List):\n",
        "    important_word = [\"urgent\", \"important\"]\n",
        "    promotion_word = [\"sale\", \"deal\"]\n",
        "    spam_word = [\"free\"]\n",
        "    \n",
        "    important_emails = []\n",
        "    promotions_emails = []\n",
        "    spam_emails = []\n",
        "    \n",
        "    for i in List:\n",
        "        email_lower = i.lower() \n",
        "\n",
        "        for word in important_word:\n",
        "            if word in email_lower:\n",
        "                important_emails.append(i)\n",
        "                break\n",
        "\n",
        "        for word in promotion_word:\n",
        "            if word in email_lower:\n",
        "                promotions_emails.append(i)\n",
        "                break\n",
        "\n",
        "        for word in spam_word:\n",
        "            if word in email_lower:\n",
        "                spam_emails.append(i)\n",
        "                break        \n",
        "    \n",
        "    return important_emails, promotions_emails, spam_emails\n",
        "\n",
        "\n",
        "List = [\n",
        "    \"important announcement\",\n",
        "    \"check out our latest deal\",\n",
        "    \"you won a free nissan GTR (Kash...)\"\n",
        "]\n",
        "\n",
        "important, promotions, spam = classify_emails(List)\n",
        "\n",
        "print(important)\n",
        "print(promotions)\n",
        "print(spam)"
      ]
    },
    {
      "cell_type": "markdown",
      "metadata": {
        "id": "amtV-GLWpCC7"
      },
      "source": [
        "# Lab Task 03"
      ]
    },
    {
      "cell_type": "markdown",
      "metadata": {
        "id": "M2Zg-XsUpC72"
      },
      "source": [
        "## English-Spanish Dictionary\n",
        "You are creating a basic English-Spanish dictionary that allows users to look up English words and find their Spanish translations.\n",
        "\n",
        "\n",
        "### Tasks\n",
        "* Create a dictionary where English words are keys and their Spanish translations are values.\n",
        "* Ask the user to input an English word.\n",
        "* Check if the word exists in the dictionary.\n",
        "* If the word exists, print its Spanish translation.\n",
        "* If the word does not exist, inform the user that the translation is not available.\n",
        "* Implement a loop that allows the user to keep looking up words until they choose to exit.\n"
      ]
    },
    {
      "cell_type": "code",
      "execution_count": 30,
      "metadata": {
        "id": "7RKtYbMZpJdh"
      },
      "outputs": [
        {
          "name": "stdout",
          "output_type": "stream",
          "text": [
            "sorry in Spanish is lo siento\n",
            "sorry in Spanish is lo siento\n",
            "hello in Spanish is hola\n"
          ]
        }
      ],
      "source": [
        "#code here\n",
        "dictionary = {\n",
        "    \"hello\": \"hola\",\n",
        "    \"thank you\": \"gracias\",\n",
        "    \"sorry\": \"lo siento\",\n",
        "    \"yes\": \"sí\",\n",
        "    \"no\": \"no\"\n",
        "}\n",
        "\n",
        "while True:\n",
        "    word = input(\"Enter a word or type 'exit' to quit: \").lower()\n",
        "    \n",
        "    if word == \"exit\":\n",
        "        break\n",
        "\n",
        "    if word in dictionary:\n",
        "        print(word, \"in Spanish is\", dictionary[word])\n",
        "    else:\n",
        "        print(\"Sorry, the translation is not available.\")"
      ]
    },
    {
      "cell_type": "markdown",
      "metadata": {
        "id": "h_8wOMWitspv"
      },
      "source": [
        "# Lab Task 04"
      ]
    },
    {
      "cell_type": "markdown",
      "metadata": {
        "id": "Qq4VH1Jkts32"
      },
      "source": [
        "dataset link : https://raw.githubusercontent.com/TirendazAcademy/PANDAS-TUTORIAL/main/DataSets/vgsalesGlobale.csv\n",
        "#Exercise\n",
        "Use the dataset of Game, we have explored earlier and perform following operations.\n",
        "\n",
        "* Calculate the total global sales for all games in the dataset.\n",
        "* Find the game with the highest global sales.\n",
        "* Determine the average sales for each region (NA_Sales, EU_Sales, JP_Sales, Other_Sales).\n",
        "* Find the top 5 most popular game genres based on global sales.\n",
        "* Calculate the total sales for each genre in each region and find the most popular genre in North America (NA_Sales).\n",
        "* Display last 10 rows.\n",
        "* Determine the top 3 gaming platforms with the highest global sales.\n",
        "* Calculate the market share (percentage of global sales) for each genre.\n",
        "* Calculate the correlation coefficient between NA_Sales and EU_Sales. (.corr function)"
      ]
    },
    {
      "cell_type": "code",
      "execution_count": 41,
      "metadata": {},
      "outputs": [
        {
          "name": "stdout",
          "output_type": "stream",
          "text": [
            "sales for all games 8920.44 \n",
            "\n",
            "Game with the highest global sales Rank                     1\n",
            "Name            Wii Sports\n",
            "Platform               Wii\n",
            "Year                2006.0\n",
            "Genre               Sports\n",
            "Publisher         Nintendo\n",
            "NA_Sales             41.49\n",
            "EU_Sales             29.02\n",
            "JP_Sales              3.77\n",
            "Other_Sales           8.46\n",
            "Global_Sales         82.74\n",
            "Name: 0, dtype: object \n",
            "\n",
            "Average sales for every region\n",
            "NA_Sales       0.264667\n",
            "EU_Sales       0.146652\n",
            "JP_Sales       0.077782\n",
            "Other_Sales    0.048063\n",
            "dtype: float64\n",
            "Top 5 most popular game \n",
            "Genre\n",
            "Action          1751.18\n",
            "Sports          1330.93\n",
            "Shooter         1037.37\n",
            "Role-Playing     927.37\n",
            "Platform         831.37\n",
            "Name: Global_Sales, dtype: float64\n",
            "\n",
            "\n",
            "Most popular genre in NA Action \n",
            "\n",
            "        Rank                                               Name Platform  \\\n",
            "16588  16591                                   Mega Brain Boost       DS   \n",
            "16589  16592  Chou Ezaru wa Akai Hana: Koi wa Tsuki ni Shiru...      PSV   \n",
            "16590  16593  Eiyuu Densetsu: Sora no Kiseki Material Collec...      PSP   \n",
            "16591  16594                                Myst IV: Revelation       PC   \n",
            "16592  16595                                           Plushees       DS   \n",
            "16593  16596                 Woody Woodpecker in Crazy Castle 5      GBA   \n",
            "16594  16597                      Men in Black II: Alien Escape       GC   \n",
            "16595  16598   SCORE International Baja 1000: The Official Game      PS2   \n",
            "16596  16599                                         Know How 2       DS   \n",
            "16597  16600                                   Spirits & Spells      GBA   \n",
            "\n",
            "         Year         Genre              Publisher  NA_Sales  EU_Sales  \\\n",
            "16588  2008.0        Puzzle  Majesco Entertainment      0.01      0.00   \n",
            "16589  2016.0        Action        dramatic create      0.00      0.00   \n",
            "16590  2007.0  Role-Playing     Falcom Corporation      0.00      0.00   \n",
            "16591  2004.0     Adventure                Ubisoft      0.01      0.00   \n",
            "16592  2008.0    Simulation              Destineer      0.01      0.00   \n",
            "16593  2002.0      Platform                  Kemco      0.01      0.00   \n",
            "16594  2003.0       Shooter             Infogrames      0.01      0.00   \n",
            "16595  2008.0        Racing             Activision      0.00      0.00   \n",
            "16596  2010.0        Puzzle               7G//AMES      0.00      0.01   \n",
            "16597  2003.0      Platform                Wanadoo      0.01      0.00   \n",
            "\n",
            "       JP_Sales  Other_Sales  Global_Sales  \n",
            "16588      0.00          0.0          0.01  \n",
            "16589      0.01          0.0          0.01  \n",
            "16590      0.01          0.0          0.01  \n",
            "16591      0.00          0.0          0.01  \n",
            "16592      0.00          0.0          0.01  \n",
            "16593      0.00          0.0          0.01  \n",
            "16594      0.00          0.0          0.01  \n",
            "16595      0.00          0.0          0.01  \n",
            "16596      0.00          0.0          0.01  \n",
            "16597      0.00          0.0          0.01  \n",
            "Top 3 gaming platforms\n",
            "Platform\n",
            "PS2     1255.64\n",
            "X360     979.96\n",
            "PS3      957.84\n",
            "Name: Global_Sales, dtype: float64\n",
            "\n",
            "\n",
            "Market share for every genre\n",
            "Genre\n",
            "Action          19.631094\n",
            "Adventure        2.679688\n",
            "Fighting         5.032375\n",
            "Misc             9.079821\n",
            "Platform         9.319832\n",
            "Puzzle           2.745941\n",
            "Racing           8.206322\n",
            "Role-Playing    10.396012\n",
            "Shooter         11.629135\n",
            "Simulation       4.396644\n",
            "Sports          14.920004\n",
            "Strategy         1.963132\n",
            "Name: Global_Sales, dtype: float64\n",
            "\n",
            "\n",
            "0.767726748370264\n"
          ]
        }
      ],
      "source": [
        "import pandas as pd\n",
        "url = \"https://raw.githubusercontent.com/TirendazAcademy/PANDAS-TUTORIAL/main/DataSets/vgsalesGlobale.csv\"\n",
        "data = pd.read_csv(url)\n",
        "\n",
        "global_sales = data.Global_Sales.sum()\n",
        "print(\"sales for all games\", global_sales,\"\\n\")\n",
        "\n",
        "highest_sales = data.loc[data.Global_Sales.idxmax()]\n",
        "print(\"Game with the highest global sales\",highest_sales,\"\\n\")\n",
        "\n",
        "average_sales = data[['NA_Sales', 'EU_Sales', 'JP_Sales', 'Other_Sales']].mean()\n",
        "print(\"Average sales for every region\")\n",
        "print(average_sales)\n",
        "\n",
        "top_5 = data.groupby('Genre')['Global_Sales'].sum().nlargest(5)\n",
        "print(\"Top 5 most popular game \")\n",
        "print(top_5)\n",
        "print(\"\\n\")\n",
        "\n",
        "sales_by_region = data.groupby('Genre')[['NA_Sales', 'EU_Sales', 'JP_Sales', 'Other_Sales']].sum()\n",
        "most_popular_genre = sales_by_region.NA_Sales.idxmax()\n",
        "print(\"Most popular genre in NA\", most_popular_genre,\"\\n\")\n",
        "\n",
        "print(data.tail(10))\n",
        "\n",
        "top_3 = data.groupby('Platform')['Global_Sales'].sum().nlargest(3)\n",
        "print(\"Top 3 gaming platforms\")\n",
        "print(top_3)\n",
        "print(\"\\n\")\n",
        "\n",
        "market_share = (data.groupby('Genre')['Global_Sales'].sum() / global_sales) * 100\n",
        "print(\"Market share for every genre\")\n",
        "print(market_share)\n",
        "print(\"\\n\")\n",
        "\n",
        "corr_coefficient = data['NA_Sales'].corr(data['EU_Sales'])\n",
        "print(corr_coefficient)\n"
      ]
    },
    {
      "cell_type": "markdown",
      "metadata": {
        "id": "b9WEL8JcZFfY"
      },
      "source": [
        "Some tree example"
      ]
    },
    {
      "cell_type": "code",
      "execution_count": 3,
      "metadata": {
        "id": "re3_ijh12uCi"
      },
      "outputs": [],
      "source": [
        "# import pandas as pd\n",
        "\n",
        "# # Create a DataFrame to represent a tree\n",
        "# data = {\n",
        "#     'node': ['A', 'B', 'C', 'D', 'E', 'F'],\n",
        "#     'parent': [None, 'A', 'A', 'B', 'B', 'C']\n",
        "# }\n",
        "# df = pd.DataFrame(data)\n",
        "\n",
        "# print(df)\n"
      ]
    },
    {
      "cell_type": "code",
      "execution_count": 2,
      "metadata": {
        "id": "4eYXGm0c2yAl"
      },
      "outputs": [],
      "source": [
        "# pip install networkx\n"
      ]
    },
    {
      "cell_type": "code",
      "execution_count": 1,
      "metadata": {
        "id": "QBd8dZTF224G"
      },
      "outputs": [],
      "source": [
        "# import pandas as pd\n",
        "# import networkx as nx\n",
        "# import matplotlib.pyplot as plt\n",
        "\n",
        "# # Create a DataFrame representing edges in a graph\n",
        "# data = {\n",
        "#     'from': ['A', 'A', 'B', 'C', 'D'],\n",
        "#     'to': ['B', 'C', 'D', 'E', 'E']\n",
        "# }\n",
        "# edges = pd.DataFrame(data)\n",
        "\n",
        "# # Create a graph from the edges DataFrame\n",
        "# G = nx.from_pandas_edgelist(edges, 'from', 'to')\n",
        "\n",
        "# # Draw the graph\n",
        "# nx.draw(G, with_labels=True)\n",
        "# plt.show()\n",
        "\n",
        "# # Analyze the graph\n",
        "# print(\"Nodes:\", G.nodes())\n",
        "# print(\"Edges:\", G.edges())\n",
        "# print(\"Degree for each Node:\", dict(G.degree()))\n"
      ]
    }
  ],
  "metadata": {
    "colab": {
      "provenance": []
    },
    "kernelspec": {
      "display_name": "Python 3",
      "name": "python3"
    },
    "language_info": {
      "codemirror_mode": {
        "name": "ipython",
        "version": 3
      },
      "file_extension": ".py",
      "mimetype": "text/x-python",
      "name": "python",
      "nbconvert_exporter": "python",
      "pygments_lexer": "ipython3",
      "version": "3.11.5"
    }
  },
  "nbformat": 4,
  "nbformat_minor": 0
}
